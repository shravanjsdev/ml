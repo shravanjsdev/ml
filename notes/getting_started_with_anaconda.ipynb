{
 "cells": [
  {
   "cell_type": "markdown",
   "metadata": {},
   "source": [
    "# Anaconda navigator\n",
    "\n",
    "## Download & Installation:\n",
    "* Visit https://www.anaconda.com/products/individual#Downloads and download the package\n",
    "* After downloading the package, click the file and install through its wizard by following the steps mentioned in it.\n",
    "\n"
   ]
  },
  {
   "cell_type": "markdown",
   "metadata": {},
   "source": [
    "## Verifying installation:\n",
    "After installing anaconda,\n",
    "Open terminal: \n",
    "type `conda --v`\n",
    "\n",
    "This should print the anaconda's version, this confirms the product is successfully installed."
   ]
  },
  {
   "cell_type": "markdown",
   "metadata": {},
   "source": [
    "## Updating Anaconda:\n",
    "`conda update conda`"
   ]
  },
  {
   "cell_type": "markdown",
   "metadata": {},
   "source": [
    "## Virtual environment in anaconda:\n",
    "\n",
    "##### Virtual environment:\n",
    "\n",
    "A virtual environment is a named, isolated, working copy of Python that that maintains its own files, directories, and paths so that you can work with specific versions of libraries or Python itself without affecting other Python projects. Virtual environmets make it easy to cleanly separate different projects and avoid problems with different dependencies and version requiremetns across components.\n",
    "\n",
    "##### Creating virtual environment:\n",
    "`conda create -n name_of_virtual_environemt anaconda`\n",
    "\n",
    "##### Activating virtual environment:\n",
    "`conda activate name_of_virtual_environment`\n",
    "\n",
    "##### Deactivating virtual environment:\n",
    "`conda deactivate name_of_virtual_environment`\n",
    "\n",
    "##### Updating virtual environment:\n",
    "`conda update -n name_of_virtual_environment --all`"
   ]
  },
  {
   "cell_type": "markdown",
   "metadata": {},
   "source": [
    "## Installing package:\n",
    "`conda install pkgName`\n",
    "\n",
    "## Updating package:\n",
    "`conda update pkgName`"
   ]
  },
  {
   "cell_type": "markdown",
   "metadata": {},
   "source": [
    "## Uninstalling anaconda:\n",
    "`conda install anaconda-clean`"
   ]
  },
  {
   "cell_type": "code",
   "execution_count": null,
   "metadata": {},
   "outputs": [],
   "source": []
  }
 ],
 "metadata": {
  "kernelspec": {
   "display_name": "Python 3",
   "language": "python",
   "name": "python3"
  },
  "language_info": {
   "codemirror_mode": {
    "name": "ipython",
    "version": 3
   },
   "file_extension": ".py",
   "mimetype": "text/x-python",
   "name": "python",
   "nbconvert_exporter": "python",
   "pygments_lexer": "ipython3",
   "version": "3.8.3"
  }
 },
 "nbformat": 4,
 "nbformat_minor": 4
}
