{
 "cells": [
  {
   "cell_type": "markdown",
   "metadata": {},
   "source": [
    "# Getting started with Jupyter notebook\n",
    "\n",
    "\n",
    "### Modes\n",
    "Basically there are 2 types of modes in jupyter notebook:\n",
    "* Edit mode\n",
    "* Command mode\n",
    "\n",
    "### Activating mode\n",
    "* Press `Esc` key to activate Command mode\n",
    "* Press `Enter` key to activate Edit mode\n",
    "\n",
    "### Common shortcuts for both modes\n",
    "1. `Shift + Enter` run the current cell, select below\n",
    "2. `Ctrl + Enter` run selected cells\n",
    "3. `Alt + Enter` run the current cell, insert below\n",
    "4. `Ctrl + S` save and checkpoint\n",
    "\n",
    "### Shortcuts in Commad mode.\n",
    "1. `Enter` take you into edit mode\n",
    "2. `H` show all shortcuts\n",
    "3. `Up` select cell above\n",
    "4. `Down` select cell below\n",
    "5. `Shift + Up` extend selected cells above\n",
    "6. `Shift + Down` extend selected cells below\n",
    "7. `A` insert cell above\n",
    "8. `B` insert cell below\n",
    "9. `X` cut selected cells\n",
    "10. `C` copy selected cells\n",
    "11. `V` paste cells below\n",
    "12. `Shift + V` paste cells above\n",
    "13. `D, D` (press the key twice) delete selected cells\n",
    "14. `Z` undo cell deletion\n",
    "15. `S` Save and Checkpoint\n",
    "16. `Y` change the cell type to Code\n",
    "17. `M` change the cell type to Markdown\n",
    "18. `Shift + Space` scroll notebook up\n",
    "19. `Space scroll` notebook down\n",
    "20. `P` open the command palette.\n",
    "    - This dialog helps you run any command by name. It’s really useful if you don’t know some shortcut or when you don’t have a shortcut for the wanted command.\n",
    "\n",
    "\n"
   ]
  },
  {
   "cell_type": "markdown",
   "metadata": {},
   "source": [
    "### Shortcuts in Edit mode.\n",
    "1. `Esc` take you into command mode\n",
    "2. `Tab` code completion or indent\n",
    "3. `Shift + Tab` tooltip\n",
    "4. `Ctrl + ]` indent\n",
    "5. `Ctrl + [` dedent\n",
    "6. `Ctrl + A` select all\n",
    "7. `Ctrl + Z` undo\n",
    "8. `Ctrl + Shift + Z` or `Ctrl + Y` redo\n",
    "9. `Ctrl + Home` go to cell start\n",
    "10. `Ctrl + End` go to cell end\n",
    "11. `Ctrl + Left` go one word left\n",
    "12. `Ctrl + Right` go one word right\n",
    "13. `Ctrl + Shift + P` open the command palette\n",
    "14. `Down` move cursor down\n",
    "15. `Up` move cursor up"
   ]
  }
 ],
 "metadata": {
  "kernelspec": {
   "display_name": "Python 3",
   "language": "python",
   "name": "python3"
  },
  "language_info": {
   "codemirror_mode": {
    "name": "ipython",
    "version": 3
   },
   "file_extension": ".py",
   "mimetype": "text/x-python",
   "name": "python",
   "nbconvert_exporter": "python",
   "pygments_lexer": "ipython3",
   "version": "3.8.3"
  }
 },
 "nbformat": 4,
 "nbformat_minor": 4
}
